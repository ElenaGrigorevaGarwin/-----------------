{
  "cells": [
    {
      "cell_type": "markdown",
      "metadata": {
        "colab_type": "text",
        "id": "view-in-github"
      },
      "source": [
        "<a href=\"https://colab.research.google.com/github/ElenaGrigorevaGarwin/Sales-forecasts-by-department/blob/main/prophet_.ipynb\" target=\"_parent\"><img src=\"https://colab.research.google.com/assets/colab-badge.svg\" alt=\"Open In Colab\"/></a>"
      ]
    },
    {
      "cell_type": "code",
      "execution_count": null,
      "metadata": {
        "id": "FjI3dGX7m7nI"
      },
      "outputs": [],
      "source": [
        "pip install prophet"
      ]
    },
    {
      "cell_type": "code",
      "execution_count": null,
      "metadata": {
        "id": "Gfvi1FblnDOU"
      },
      "outputs": [],
      "source": [
        "from prophet import Prophet"
      ]
    },
    {
      "cell_type": "code",
      "execution_count": null,
      "metadata": {
        "id": "8Z8Dng04qBN_"
      },
      "outputs": [],
      "source": [
        "import pandas as pd\n",
        "import numpy as np"
      ]
    },
    {
      "cell_type": "code",
      "execution_count": null,
      "metadata": {
        "id": "HouarKECqVcz"
      },
      "outputs": [],
      "source": [
        "df = pd.read_excel('Факт отгрузок.xlsx')\n",
        "df['Дата'] = pd.to_datetime(df['Дата'])\n",
        "df.rename(columns = {'Дата':'ds'}, inplace = True)\n",
        "sales_forecast = pd.DataFrame()\n",
        "for department in df.columns[1:]:\n",
        "  sales_data = pd.DataFrame(df[['ds', department]].rename(columns={department: 'y'}))\n",
        "  model = Prophet(yearly_seasonality = True, daily_seasonality = False, weekly_seasonality=False, seasonality_mode = 'additive')\n",
        "  model.fit(sales_data)\n",
        "  future = model.make_future_dataframe(periods = 12, freq = 'm')\n",
        "  forecast = model.predict(future)\n",
        "\n",
        "  result_df = forecast[['ds', 'yhat']].rename(columns = {'yhat': department})\n",
        "  sales_forecast = pd.concat([sales_forecast, result_df.set_index('ds')], axis=1)\n",
        "\n",
        "# Сохранение DataFrame с результатами в Excel\n",
        "sales_forecast.iloc[-12:].to_excel('Прогнозы_ProphetAdd.xlsx')"
      ]
    },
    {
      "cell_type": "code",
      "execution_count": null,
      "metadata": {
        "id": "zWq-0EUZCFlR"
      },
      "outputs": [],
      "source": [
        "df = pd.read_excel('Факт отгрузок.xlsx')\n",
        "df['Дата'] = pd.to_datetime(df['Дата'])\n",
        "df.rename(columns = {'Дата':'ds'}, inplace = True)\n",
        "sales_forecast = pd.DataFrame()\n",
        "for department in df.columns[1:]:\n",
        "  sales_data = pd.DataFrame(df[['ds', department]].rename(columns={department: 'y'}))\n",
        "  model = Prophet(yearly_seasonality = True, daily_seasonality = False, weekly_seasonality=False, seasonality_mode = 'multiplicative')\n",
        "  model.fit(sales_data)\n",
        "  future = model.make_future_dataframe(periods = 12, freq = 'm')\n",
        "  forecast = model.predict(future)\n",
        "\n",
        "  result_df = forecast[['ds', 'yhat']].rename(columns = {'yhat': department})\n",
        "  sales_forecast = pd.concat([sales_forecast, result_df.set_index('ds')], axis=1)\n",
        "\n",
        "# Сохранение DataFrame с результатами в Excel\n",
        "sales_forecast.iloc[-12:].to_excel('Прогнозы_ProphetMul.xlsx')"
      ]
    }
  ],
  "metadata": {
    "colab": {
      "authorship_tag": "ABX9TyNXof/UPBUh3o32OwXdoNw8",
      "include_colab_link": true,
      "provenance": []
    },
    "kernelspec": {
      "display_name": "Python 3",
      "name": "python3"
    },
    "language_info": {
      "name": "python",
      "version": "3.11.7"
    }
  },
  "nbformat": 4,
  "nbformat_minor": 0
}
